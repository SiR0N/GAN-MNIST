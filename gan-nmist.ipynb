{
 "cells": [
  {
   "cell_type": "markdown",
   "metadata": {},
   "source": [
    "# GAN - MNIST EXAMPLE"
   ]
  },
  {
   "cell_type": "markdown",
   "metadata": {},
   "source": [
    "In this notebook I will use GAN to generate handwritten digits from random noise. To train the model i use the MNIST dataset, the images size is 28x28 (784), in the range 0-255 (greyscale)\n",
    "\n",
    "The idea of GAN is to use two networks, the generative network generates candidates while the discriminative network evaluates them. They contest each other."
   ]
  },
  {
   "cell_type": "code",
   "execution_count": 1,
   "metadata": {},
   "outputs": [],
   "source": [
    "import numpy as np\n",
    "import tensorflow as tf\n",
    "from sklearn.model_selection import train_test_split\n",
    "import matplotlib.pyplot as plt\n",
    "\n",
    "tf.logging.set_verbosity(tf.logging.ERROR)"
   ]
  },
  {
   "cell_type": "code",
   "execution_count": 2,
   "metadata": {},
   "outputs": [],
   "source": [
    "(x_train, y_train), (x_test, y_test) = tf.keras.datasets.mnist.load_data()"
   ]
  },
  {
   "cell_type": "code",
   "execution_count": 3,
   "metadata": {},
   "outputs": [
    {
     "data": {
      "image/png": "[encoded data removed]",
      "text/plain": [
       "<Figure size 432x216 with 18 Axes>"
      ]
     },
     "metadata": {},
     "output_type": "display_data"
    }
   ],
   "source": [
    "plt.figure(figsize=(6, 3))\n",
    "for i in range(18):\n",
    "    plt.subplot(3, 6, i+1)\n",
    "    plt.imshow(x_train[i], cmap='gray')\n",
    "    plt.xticks([])\n",
    "    plt.yticks([])\n",
    "plt.tight_layout()\n",
    "plt.show()"
   ]
  },
  {
   "cell_type": "markdown",
   "metadata": {},
   "source": [
    "Function to create the random noise"
   ]
  },
  {
   "cell_type": "code",
   "execution_count": 4,
   "metadata": {},
   "outputs": [],
   "source": [
    "def make_random_samples(n_samples, sample_size):\n",
    "    \n",
    "    return np.random.normal(loc=0, scale=1, size=(n_samples, sample_size))"
   ]
  },
  {
   "cell_type": "code",
   "execution_count": 5,
   "metadata": {},
   "outputs": [
    {
     "data": {
      "text/plain": [
       "array([[-0.60294823, -1.22398398, -0.18346148, -0.27159196,  2.59668077,\n",
       "        -0.21291219, -0.87049684, -2.15487639,  0.08351533,  0.41713074,\n",
       "         1.09374657,  0.76735964, -0.73394399, -0.44613034,  0.55952779,\n",
       "         0.98526396, -0.50520605, -0.51259032,  2.23833098,  1.20942432,\n",
       "         0.21272281, -1.37968646, -0.04441327,  0.02519028, -0.2119783 ,\n",
       "         0.21512425, -2.25865405, -0.46376944, -0.712276  , -0.32199098,\n",
       "        -0.50348098,  0.96777636, -0.01485762, -0.49169034, -0.07208586,\n",
       "         0.24705144, -1.24189115, -0.40253963,  0.04987552,  0.75450604,\n",
       "        -0.07568347,  0.31691103,  0.40330866,  0.03157063, -0.87069267,\n",
       "         0.1512412 ,  0.31575923, -1.16041602,  0.24970364, -0.53029234,\n",
       "        -0.25662405,  0.55851054, -0.72085455,  0.5788493 ,  0.20505196,\n",
       "         0.69751477, -1.01569189, -1.6142661 , -0.49295069, -0.80946768,\n",
       "        -0.62993434, -1.86528558, -0.12692501, -0.79384345,  0.60413203,\n",
       "         0.3145643 , -0.04248861, -1.9061368 , -0.53456922,  0.24656252,\n",
       "        -1.64867868,  0.08905196,  0.68622418, -0.95407083,  0.34476925,\n",
       "        -1.12554022, -0.5270827 ,  0.21466286,  0.58215867, -0.97031693,\n",
       "        -1.34096884,  0.66704263, -0.55408803, -2.26884662,  0.43656391,\n",
       "         0.13179892, -0.55112529,  0.58827055,  0.39056591, -1.76225497,\n",
       "        -0.01692742,  0.33754581,  0.23641642, -1.29009208,  0.67990469,\n",
       "         2.71285235, -0.10564805,  0.34807563,  1.48556449,  0.58511751]])"
      ]
     },
     "execution_count": 5,
     "metadata": {},
     "output_type": "execute_result"
    }
   ],
   "source": [
    "sample = make_random_samples(1, 100)\n",
    "sample"
   ]
  },
  {
   "cell_type": "markdown",
   "metadata": {},
   "source": [
    "Processing the data,  in this case the range must be -1 to 1 as the generator uses a than activation function"
   ]
  },
  {
   "cell_type": "code",
   "execution_count": 6,
   "metadata": {},
   "outputs": [],
   "source": [
    "def preprocess(x):    \n",
    "    x = x.reshape(-1, 784) \n",
    "    x = np.float64(x)\n",
    "    x = (x / 255 - 0.5) * 2\n",
    "    x = np.clip(x, -1, 1)\n",
    "    return x\n",
    "\n",
    "def deprocess(x):\n",
    "    x = (x / 2 + 1) * 255\n",
    "    x = np.clip(x, 0, 255)\n",
    "    x = np.uint8(x)\n",
    "    x = x.reshape(28, 28)\n",
    "    return x\n",
    "\n"
   ]
  },
  {
   "cell_type": "code",
   "execution_count": 7,
   "metadata": {},
   "outputs": [],
   "source": [
    "X_train_real = preprocess(x_train)\n",
    "X_test_real  = preprocess(x_test)"
   ]
  },
  {
   "cell_type": "code",
   "execution_count": 8,
   "metadata": {},
   "outputs": [
    {
     "data": {
      "image/png": "[encoded data removed]",
      "text/plain": [
       "<Figure size 432x216 with 18 Axes>"
      ]
     },
     "metadata": {},
     "output_type": "display_data"
    }
   ],
   "source": [
    "plt.figure(figsize=(6, 3))\n",
    "for i in range(18):\n",
    "    plt.subplot(3, 6, i+1)\n",
    "    img = deprocess(X_train_real[i])\n",
    "    plt.imshow(img, cmap='gray')\n",
    "    plt.xticks([])\n",
    "    plt.yticks([])\n",
    "plt.tight_layout()\n",
    "plt.show()"
   ]
  },
  {
   "cell_type": "markdown",
   "metadata": {},
   "source": [
    "Labels are: 0 = FAKE and 1 = REAL"
   ]
  },
  {
   "cell_type": "code",
   "execution_count": 9,
   "metadata": {},
   "outputs": [],
   "source": [
    "def make_labels(size):\n",
    "    return np.ones([size, 1]), np.zeros([size, 1])"
   ]
  },
  {
   "cell_type": "markdown",
   "metadata": {},
   "source": [
    "Activation Funtions, BIAS and Optimizer"
   ]
  },
  {
   "cell_type": "code",
   "execution_count": 10,
   "metadata": {},
   "outputs": [],
   "source": [
    "def leaky_relu(net, name=None):\n",
    "    return tf.maximum(0.01 * net, net, name=name)\n",
    "\n",
    "def tanh(net, name=None):\n",
    "    return tf.nn.tanh(net, name=None)\n",
    "\n",
    "def sigmoid(net, name=None):\n",
    "    return tf.math.sigmoid(net, name=None)\n",
    "\n",
    "he_init = tf.contrib.layers.variance_scaling_initializer()\n",
    "\n",
    "#Adam\n",
    "def adamOptimizer(lr):\n",
    "\n",
    "    decay_momentum = 0.875\n",
    "    decay_scaling = 0.99898989898\n",
    "    epsilon = 6.626e-4   #Planck constant: 6.626069934(89)×10−34\n",
    "    optimizer = tf.train.AdamOptimizer(learning_rate=lr,\n",
    "                                       beta1=decay_momentum,\n",
    "                                       beta2=decay_scaling,\n",
    "                                       epsilon=epsilon)\n",
    "    return optimizer"
   ]
  },
  {
   "cell_type": "markdown",
   "metadata": {},
   "source": [
    "# Build network"
   ]
  },
  {
   "cell_type": "code",
   "execution_count": 11,
   "metadata": {},
   "outputs": [],
   "source": [
    "def createNNfromTopology(topology, activation):\n",
    "    layers = []\n",
    "    out = 0\n",
    "    input = 0\n",
    "    \n",
    "    \n",
    "    for i in range(1,len(topology)):\n",
    "        input = topology[i-1]\n",
    "        out = topology[i]\n",
    "        if i == len(topology)-1:\n",
    "           \n",
    "            layers.append(tf.keras.layers.Dense(out, activation=activation,input_shape=(input,),kernel_initializer = he_init))\n",
    "        else:\n",
    "            \n",
    "            layers.append(tf.keras.layers.Dense(out, activation=leaky_relu,input_shape=(input,),kernel_initializer = he_init))\n",
    "        #print(layers[i-1].get_config())\n",
    "    \n",
    "    \n",
    "    return layers                    \n",
    "                      "
   ]
  },
  {
   "cell_type": "code",
   "execution_count": 12,
   "metadata": {},
   "outputs": [],
   "source": [
    "def CreateGan(gen_topology, dis_topology, gl,dl):\n",
    "    \n",
    "\n",
    "    gen_model = tf.keras.Sequential(createNNfromTopology( gen_topology, tanh),name=\"gen\")\n",
    "    gen_model.summary()\n",
    "\n",
    "    \n",
    "    \n",
    "    #discriminator\n",
    "    dis_model = tf.keras.Sequential(createNNfromTopology(dis_topology, sigmoid), name=\"dis\")\n",
    "    dis_model.summary()\n",
    "   \n",
    "    #gan\n",
    "    gan = tf.keras.Sequential([\n",
    "    gen_model,\n",
    "    dis_model], name=\"gan\")\n",
    "\n",
    "    gan.summary()\n",
    "     \n",
    "    \n",
    "    dis_model.compile(optimizer=adamOptimizer(dl), loss='binary_crossentropy')\n",
    "    gan.compile(optimizer=adamOptimizer(gl), loss='binary_crossentropy')\n",
    "    \n",
    "    return gan, gen_model, dis_model\n",
    "    "
   ]
  },
  {
   "cell_type": "markdown",
   "metadata": {},
   "source": [
    "In some cases it is not needed to train the discriminator"
   ]
  },
  {
   "cell_type": "code",
   "execution_count": 13,
   "metadata": {},
   "outputs": [],
   "source": [
    "def make_trainable(model, trainable):\n",
    "    \n",
    "    for layer in model.layers:\n",
    "        layer.trainable = trainable        "
   ]
  },
  {
   "cell_type": "markdown",
   "metadata": {},
   "source": [
    "# Hyperparameters"
   ]
  },
  {
   "cell_type": "code",
   "execution_count": 16,
   "metadata": {},
   "outputs": [],
   "source": [
    "sample_size     = 100     \n",
    "image_size      = 784\n",
    "g_lr            = 0.00005  # Generator learning rate\n",
    "d_lr            = 0.001   # Discriminator learning rate\n",
    "epochs          = 120\n",
    "batch_size      = 64      # train batch size\n",
    "eval_size       = 16      # evaluate size\n",
    "smooth          = 0.1\n",
    "\n",
    "g_topology = [sample_size, 128, 256, 512,  image_size] \n",
    "d_topology = [image_size,256, 128, 64,   1] "
   ]
  },
  {
   "cell_type": "markdown",
   "metadata": {},
   "source": [
    "# Training"
   ]
  },
  {
   "cell_type": "code",
   "execution_count": 17,
   "metadata": {
    "scrolled": false
   },
   "outputs": [
    {
     "name": "stdout",
     "output_type": "stream",
     "text": [
      "_________________________________________________________________\n",
      "Layer (type)                 Output Shape              Param #   \n",
      "=================================================================\n",
      "dense_8 (Dense)              (None, 128)               12928     \n",
      "_________________________________________________________________\n",
      "dense_9 (Dense)              (None, 256)               33024     \n",
      "_________________________________________________________________\n",
      "dense_10 (Dense)             (None, 512)               131584    \n",
      "_________________________________________________________________\n",
      "dense_11 (Dense)             (None, 784)               402192    \n",
      "=================================================================\n",
      "Total params: 579,728\n",
      "Trainable params: 579,728\n",
      "Non-trainable params: 0\n",
      "_________________________________________________________________\n",
      "_________________________________________________________________\n",
      "Layer (type)                 Output Shape              Param #   \n",
      "=================================================================\n",
      "dense_12 (Dense)             (None, 256)               200960    \n",
      "_________________________________________________________________\n",
      "dense_13 (Dense)             (None, 128)               32896     \n",
      "_________________________________________________________________\n",
      "dense_14 (Dense)             (None, 64)                8256      \n",
      "_________________________________________________________________\n",
      "dense_15 (Dense)             (None, 1)                 65        \n",
      "=================================================================\n",
      "Total params: 242,177\n",
      "Trainable params: 242,177\n",
      "Non-trainable params: 0\n",
      "_________________________________________________________________\n",
      "_________________________________________________________________\n",
      "Layer (type)                 Output Shape              Param #   \n",
      "=================================================================\n",
      "gen (Sequential)             (None, 784)               579728    \n",
      "_________________________________________________________________\n",
      "dis (Sequential)             (None, 1)                 242177    \n",
      "=================================================================\n",
      "Total params: 821,905\n",
      "Trainable params: 821,905\n",
      "Non-trainable params: 0\n",
      "_________________________________________________________________\n",
      "Epoch:   1/120 Discriminator Loss: 0.3959 Generator Loss: 6.0692\n",
      "Epoch:   2/120 Discriminator Loss: 0.1241 Generator Loss: 5.7020\n",
      "Epoch:   3/120 Discriminator Loss: 0.1995 Generator Loss: 5.1639\n",
      "Epoch:   4/120 Discriminator Loss: 0.2583 Generator Loss: 6.2324\n",
      "Epoch:   5/120 Discriminator Loss: 0.7573 Generator Loss: 4.1045\n",
      "Epoch:   6/120 Discriminator Loss: 0.5058 Generator Loss: 4.0930\n",
      "Epoch:   7/120 Discriminator Loss: 0.4171 Generator Loss: 5.9890\n",
      "Epoch:   8/120 Discriminator Loss: 0.1330 Generator Loss: 5.6477\n",
      "Epoch:   9/120 Discriminator Loss: 0.4497 Generator Loss: 5.2547\n"
     ]
    },
    {
     "ename": "KeyboardInterrupt",
     "evalue": "",
     "output_type": "error",
     "traceback": [
      "\u001b[1;31m---------------------------------------------------------------------------\u001b[0m",
      "\u001b[1;31mKeyboardInterrupt\u001b[0m                         Traceback (most recent call last)",
      "\u001b[1;32m<ipython-input-17-ac2099005628>\u001b[0m in \u001b[0;36m<module>\u001b[1;34m\u001b[0m\n\u001b[0;32m     26\u001b[0m         \u001b[1;31m# train the discriminator to detect real and fake images\u001b[0m\u001b[1;33m\u001b[0m\u001b[1;33m\u001b[0m\u001b[0m\n\u001b[0;32m     27\u001b[0m         \u001b[0mmake_trainable\u001b[0m\u001b[1;33m(\u001b[0m\u001b[0mdis_model\u001b[0m\u001b[1;33m,\u001b[0m \u001b[1;32mTrue\u001b[0m\u001b[1;33m)\u001b[0m\u001b[1;33m\u001b[0m\u001b[0m\n\u001b[1;32m---> 28\u001b[1;33m         \u001b[0mdis_model\u001b[0m\u001b[1;33m.\u001b[0m\u001b[0mtrain_on_batch\u001b[0m\u001b[1;33m(\u001b[0m\u001b[0mX_batch_real\u001b[0m\u001b[1;33m,\u001b[0m \u001b[0my_train_real\u001b[0m \u001b[1;33m*\u001b[0m \u001b[1;33m(\u001b[0m\u001b[1;36m1\u001b[0m \u001b[1;33m-\u001b[0m \u001b[0msmooth\u001b[0m\u001b[1;33m)\u001b[0m\u001b[1;33m)\u001b[0m\u001b[1;33m\u001b[0m\u001b[0m\n\u001b[0m\u001b[0;32m     29\u001b[0m         \u001b[0mdis_model\u001b[0m\u001b[1;33m.\u001b[0m\u001b[0mtrain_on_batch\u001b[0m\u001b[1;33m(\u001b[0m\u001b[0mX_batch_fake\u001b[0m\u001b[1;33m,\u001b[0m \u001b[0my_train_fake\u001b[0m\u001b[1;33m)\u001b[0m\u001b[1;33m\u001b[0m\u001b[0m\n\u001b[0;32m     30\u001b[0m \u001b[1;33m\u001b[0m\u001b[0m\n",
      "\u001b[1;32mc:\\users\\josema\\appdata\\local\\programs\\python\\python36\\lib\\site-packages\\tensorflow\\python\\keras\\engine\\training.py\u001b[0m in \u001b[0;36mtrain_on_batch\u001b[1;34m(self, x, y, sample_weight, class_weight)\u001b[0m\n\u001b[0;32m   1938\u001b[0m \u001b[1;33m\u001b[0m\u001b[0m\n\u001b[0;32m   1939\u001b[0m       \u001b[0mself\u001b[0m\u001b[1;33m.\u001b[0m\u001b[0m_make_train_function\u001b[0m\u001b[1;33m(\u001b[0m\u001b[1;33m)\u001b[0m\u001b[1;33m\u001b[0m\u001b[0m\n\u001b[1;32m-> 1940\u001b[1;33m       \u001b[0moutputs\u001b[0m \u001b[1;33m=\u001b[0m \u001b[0mself\u001b[0m\u001b[1;33m.\u001b[0m\u001b[0mtrain_function\u001b[0m\u001b[1;33m(\u001b[0m\u001b[0mins\u001b[0m\u001b[1;33m)\u001b[0m\u001b[1;33m\u001b[0m\u001b[0m\n\u001b[0m\u001b[0;32m   1941\u001b[0m \u001b[1;33m\u001b[0m\u001b[0m\n\u001b[0;32m   1942\u001b[0m     \u001b[1;32mif\u001b[0m \u001b[0mlen\u001b[0m\u001b[1;33m(\u001b[0m\u001b[0moutputs\u001b[0m\u001b[1;33m)\u001b[0m \u001b[1;33m==\u001b[0m \u001b[1;36m1\u001b[0m\u001b[1;33m:\u001b[0m\u001b[1;33m\u001b[0m\u001b[0m\n",
      "\u001b[1;32mc:\\users\\josema\\appdata\\local\\programs\\python\\python36\\lib\\site-packages\\tensorflow\\python\\keras\\backend.py\u001b[0m in \u001b[0;36m__call__\u001b[1;34m(self, inputs)\u001b[0m\n\u001b[0;32m   2984\u001b[0m \u001b[1;33m\u001b[0m\u001b[0m\n\u001b[0;32m   2985\u001b[0m     fetched = self._callable_fn(*array_vals,\n\u001b[1;32m-> 2986\u001b[1;33m                                 run_metadata=self.run_metadata)\n\u001b[0m\u001b[0;32m   2987\u001b[0m     \u001b[0mself\u001b[0m\u001b[1;33m.\u001b[0m\u001b[0m_call_fetch_callbacks\u001b[0m\u001b[1;33m(\u001b[0m\u001b[0mfetched\u001b[0m\u001b[1;33m[\u001b[0m\u001b[1;33m-\u001b[0m\u001b[0mlen\u001b[0m\u001b[1;33m(\u001b[0m\u001b[0mself\u001b[0m\u001b[1;33m.\u001b[0m\u001b[0m_fetches\u001b[0m\u001b[1;33m)\u001b[0m\u001b[1;33m:\u001b[0m\u001b[1;33m]\u001b[0m\u001b[1;33m)\u001b[0m\u001b[1;33m\u001b[0m\u001b[0m\n\u001b[0;32m   2988\u001b[0m     \u001b[1;32mreturn\u001b[0m \u001b[0mfetched\u001b[0m\u001b[1;33m[\u001b[0m\u001b[1;33m:\u001b[0m\u001b[0mlen\u001b[0m\u001b[1;33m(\u001b[0m\u001b[0mself\u001b[0m\u001b[1;33m.\u001b[0m\u001b[0moutputs\u001b[0m\u001b[1;33m)\u001b[0m\u001b[1;33m]\u001b[0m\u001b[1;33m\u001b[0m\u001b[0m\n",
      "\u001b[1;32mc:\\users\\josema\\appdata\\local\\programs\\python\\python36\\lib\\site-packages\\tensorflow\\python\\client\\session.py\u001b[0m in \u001b[0;36m__call__\u001b[1;34m(self, *args, **kwargs)\u001b[0m\n\u001b[0;32m   1437\u001b[0m           ret = tf_session.TF_SessionRunCallable(\n\u001b[0;32m   1438\u001b[0m               \u001b[0mself\u001b[0m\u001b[1;33m.\u001b[0m\u001b[0m_session\u001b[0m\u001b[1;33m.\u001b[0m\u001b[0m_session\u001b[0m\u001b[1;33m,\u001b[0m \u001b[0mself\u001b[0m\u001b[1;33m.\u001b[0m\u001b[0m_handle\u001b[0m\u001b[1;33m,\u001b[0m \u001b[0margs\u001b[0m\u001b[1;33m,\u001b[0m \u001b[0mstatus\u001b[0m\u001b[1;33m,\u001b[0m\u001b[1;33m\u001b[0m\u001b[0m\n\u001b[1;32m-> 1439\u001b[1;33m               run_metadata_ptr)\n\u001b[0m\u001b[0;32m   1440\u001b[0m         \u001b[1;32mif\u001b[0m \u001b[0mrun_metadata\u001b[0m\u001b[1;33m:\u001b[0m\u001b[1;33m\u001b[0m\u001b[0m\n\u001b[0;32m   1441\u001b[0m           \u001b[0mproto_data\u001b[0m \u001b[1;33m=\u001b[0m \u001b[0mtf_session\u001b[0m\u001b[1;33m.\u001b[0m\u001b[0mTF_GetBuffer\u001b[0m\u001b[1;33m(\u001b[0m\u001b[0mrun_metadata_ptr\u001b[0m\u001b[1;33m)\u001b[0m\u001b[1;33m\u001b[0m\u001b[0m\n",
      "\u001b[1;31mKeyboardInterrupt\u001b[0m: "
     ]
    }
   ],
   "source": [
    "# labels for the batch size and the test size\n",
    "y_train_real, y_train_fake = make_labels(batch_size)\n",
    "y_eval_real,  y_eval_fake  = make_labels(eval_size)\n",
    "\n",
    "\n",
    "\n",
    "\n",
    "# create a GAN, a generator and a discriminator\n",
    "\n",
    "gan, gen_model, dis_model = CreateGan(g_topology, d_topology,g_lr,d_lr)\n",
    "\n",
    "losses = []\n",
    "samples = []\n",
    "\n",
    "for e in range(epochs):\n",
    "    for i in range(len(X_train_real)//batch_size):\n",
    "        # real MNIST digit images\n",
    "        X_batch_real = X_train_real[i*batch_size:(i+1)*batch_size]\n",
    "        \n",
    "        # latent samples and the generated digit images\n",
    "        latent_samples = make_random_samples(batch_size, sample_size)\n",
    "        X_batch_fake = gen_model.predict_on_batch(latent_samples)\n",
    "        \n",
    "        \n",
    "        \n",
    "        # train the discriminator to detect real and fake images\n",
    "        make_trainable(dis_model, True)        \n",
    "        dis_model.train_on_batch(X_batch_real, y_train_real * (1 - smooth))\n",
    "        dis_model.train_on_batch(X_batch_fake, y_train_fake)\n",
    "\n",
    "        # train the generator via GAN\n",
    "        make_trainable(dis_model, False)     \n",
    "        gan.train_on_batch(latent_samples, y_train_real)\n",
    "    \n",
    "    # evaluate\n",
    "    X_eval_real = X_test_real[np.random.choice(len(X_test_real), eval_size, replace=False)]\n",
    "    \n",
    "    latent_samples = make_random_samples(eval_size, sample_size)\n",
    "    X_eval_fake = gen_model.predict_on_batch(latent_samples)\n",
    "    \n",
    "    samples.append(X_eval_fake)\n",
    "\n",
    "    d_loss  = dis_model.test_on_batch(X_eval_real, y_eval_real)\n",
    "    d_loss += dis_model.test_on_batch(X_eval_fake, y_eval_fake)\n",
    "    g_loss  = gan.test_on_batch(latent_samples, y_eval_real) # we want the fake to be realistic!\n",
    "    \n",
    "    losses.append((d_loss, g_loss))\n",
    "    \n",
    "    print(\"Epoch: {:>3}/{} Discriminator Loss: {:>6.4f} Generator Loss: {:>6.4f}\".format(\n",
    "        e+1, epochs, d_loss, g_loss))"
   ]
  },
  {
   "cell_type": "markdown",
   "metadata": {},
   "source": [
    "# Training analysis"
   ]
  },
  {
   "cell_type": "markdown",
   "metadata": {},
   "source": [
    "Images generated by the Generator at the last epoch"
   ]
  },
  {
   "cell_type": "code",
   "execution_count": null,
   "metadata": {},
   "outputs": [],
   "source": [
    "def view_samples(epoch, samples):\n",
    "    fig, axes = plt.subplots( nrows=3, ncols=6, sharey=True, sharex=True)\n",
    "    for ax, img in zip(axes.flatten(), samples[epoch]):\n",
    "        ax.xaxis.set_visible(False)\n",
    "        ax.yaxis.set_visible(False)\n",
    "        im = ax.imshow(img.reshape((28,28)), cmap='Greys_r')\n",
    "    \n",
    "    return fig, axes\n",
    "\n",
    "_ = view_samples(-1, samples)"
   ]
  },
  {
   "cell_type": "markdown",
   "metadata": {},
   "source": [
    "Images generaded by the Generator Network every 10 epochs"
   ]
  },
  {
   "cell_type": "code",
   "execution_count": null,
   "metadata": {},
   "outputs": [],
   "source": [
    "rows, cols = 10, 6\n",
    "fig, axes = plt.subplots(figsize=(7,12), nrows=rows, ncols=cols, sharex=True, sharey=True)\n",
    "\n",
    "for sample, ax_row in zip(samples[::int(len(samples)/rows)], axes):\n",
    "    for img, ax in zip(sample[::int(len(sample)/cols)], ax_row):\n",
    "        ax.imshow(img.reshape((28,28)), cmap='Greys_r')\n",
    "        ax.xaxis.set_visible(False)\n",
    "        ax.yaxis.set_visible(False)"
   ]
  },
  {
   "cell_type": "markdown",
   "metadata": {},
   "source": [
    "# Loss"
   ]
  },
  {
   "cell_type": "code",
   "execution_count": null,
   "metadata": {},
   "outputs": [],
   "source": [
    "\n",
    "losses = np.array(losses)\n",
    "\n",
    "fig, ax = plt.subplots()\n",
    "plt.plot(losses.T[0], label='Discriminator')\n",
    "plt.plot(losses.T[1], label='Generator')\n",
    "plt.title(\"Training Losses\")\n",
    "plt.legend()\n",
    "plt.show()"
   ]
  },
  {
   "cell_type": "markdown",
   "metadata": {},
   "source": [
    "# Generator model test"
   ]
  },
  {
   "cell_type": "code",
   "execution_count": null,
   "metadata": {},
   "outputs": [],
   "source": [
    "latent_samples = make_random_samples(18, sample_size)\n",
    "generated_digits = gen_model.predict(latent_samples)\n",
    "\n",
    "plt.figure(figsize=(10, 8))\n",
    "for i in range(18):\n",
    "    img = deprocess(generated_digits[i])\n",
    "    plt.subplot(3, 6, i+1)\n",
    "    plt.imshow(img, cmap='gray')\n",
    "    plt.xticks([])\n",
    "    plt.yticks([])\n",
    "plt.tight_layout()\n",
    "plt.show()"
   ]
  }
 ],
 "metadata": {
  "kernelspec": {
   "display_name": "Python 3",
   "language": "python",
   "name": "python3"
  },
  "language_info": {
   "codemirror_mode": {
    "name": "ipython",
    "version": 3
   },
   "file_extension": ".py",
   "mimetype": "text/x-python",
   "name": "python",
   "nbconvert_exporter": "python",
   "pygments_lexer": "ipython3",
   "version": "3.6.6"
  }
 },
 "nbformat": 4,
 "nbformat_minor": 2
}
